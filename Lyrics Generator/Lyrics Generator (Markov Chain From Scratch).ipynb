{
 "cells": [
  {
   "cell_type": "code",
   "execution_count": 1,
   "metadata": {},
   "outputs": [],
   "source": [
    "from collections import defaultdict\n",
    "import random\n",
    "import pandas as pd"
   ]
  },
  {
   "cell_type": "code",
   "execution_count": 2,
   "metadata": {},
   "outputs": [],
   "source": [
    "songs = pd.read_excel(r'2020_4.xlsx')"
   ]
  },
  {
   "cell_type": "code",
   "execution_count": 3,
   "metadata": {},
   "outputs": [],
   "source": [
    "songs = songs[songs.Language == 'English']"
   ]
  },
  {
   "cell_type": "code",
   "execution_count": 4,
   "metadata": {},
   "outputs": [],
   "source": [
    "songs['Lyrics'] = songs['Lyrics'].str.replace('  ',' ')\n",
    "songs['Lyrics'] = songs['Lyrics'].str.lower()\n",
    "songs['Lyrics (No Punc)'] = songs['Lyrics'].str.replace('[^\\w\\s]','')"
   ]
  },
  {
   "cell_type": "code",
   "execution_count": 5,
   "metadata": {},
   "outputs": [],
   "source": [
    "def markov_chain(text, n):\n",
    "    '''The input is a string of text\n",
    "    and the output will be a dictionary with every word as a key\n",
    "    and each value as the list of words that come after the key\n",
    "    n can be 1 or 2'''\n",
    "    \n",
    "    # Tokenize the text by word, including punctuation\n",
    "    words = text.split(' ')\n",
    "    # number of words\n",
    "    n_words = len(words)\n",
    "    \n",
    "    # Initialize a default dictionary to hold all of the words and next words\n",
    "    m_dict = defaultdict(list)\n",
    "    \n",
    "    \n",
    "    if n == 1:\n",
    "        for current_word, next_word in zip(words[0:-1], words[1:]):\n",
    "            m_dict[current_word].append(next_word)\n",
    "    if n == 2:\n",
    "        for i, key1 in enumerate(words):\n",
    "            if n_words > (i + 2):\n",
    "                key2 = words[i + 1]\n",
    "                word = words[i + 2]\n",
    "                m_dict[(key1,key2)].append(word)\n",
    "                   \n",
    "    # Convert the default dict back into a dictionary\n",
    "    m_dict = dict(m_dict)\n",
    "    return m_dict"
   ]
  },
  {
   "cell_type": "code",
   "execution_count": 6,
   "metadata": {},
   "outputs": [],
   "source": [
    "def generate_sentence(chain, count=15,n=1):\n",
    "    '''Input a dictionary in the format of key = current word\n",
    "    and value = list of words that come after it\n",
    "    along with the number of words you would like to see\n",
    "    in your generated sentence'''\n",
    "    \n",
    "    # Capitalize the first word\n",
    "    if n==1:\n",
    "        word1 = random.choice(list(chain.keys()))\n",
    "        sentence = word1.capitalize()\n",
    "        for i in range(count-1):\n",
    "            word2 = random.choice(chain[word1])\n",
    "            word1 = word2\n",
    "            sentence += ' ' + word2\n",
    "    elif n==2:\n",
    "        word1, word2 = random.choice(list(chain.keys()))\n",
    "        sentence = word1.capitalize() + ' ' + word2\n",
    "        for i in range(count-2):\n",
    "            if (word1,word2) in chain:\n",
    "                word3 = random.choice(chain[(word1,word2)])\n",
    "                word1 = word2\n",
    "                word2 = word3\n",
    "                sentence += ' ' + word3\n",
    "    \n",
    "    # Generate the second word from the value list, set the new word as the key for next\n",
    "    \n",
    "    return(sentence)"
   ]
  },
  {
   "cell_type": "code",
   "execution_count": 7,
   "metadata": {},
   "outputs": [],
   "source": [
    "song_dict_1 = defaultdict(list)\n",
    "song_list = []\n",
    "for song in songs['Lyrics (No Punc)']:\n",
    "    song_list.append(markov_chain(song,n=1))\n",
    "    \n",
    "for d in song_list:\n",
    "    for key, value in d.items():\n",
    "        song_dict_1[key].extend(value)"
   ]
  },
  {
   "cell_type": "code",
   "execution_count": 9,
   "metadata": {},
   "outputs": [
    {
     "name": "stdout",
     "output_type": "stream",
     "text": [
      "[Verse]\n",
      "Bush and said to blame i cross me\n",
      "Garage make a good sign maybe im\n",
      "Cosmic game fully shine like its makin me im\n",
      "Hyenas i bring back all these\n",
      "Medicine so we would like the way of\n",
      "\n",
      "[Chorus]\n",
      "Gram nah i look at home\n",
      "Rats we gotta say slatt slatt slatt slatt i\n",
      "Tie me and all i said it til\n",
      "Enrolled me the telepathic mind been that\n",
      "Collect were gonna let it up me oh\n",
      "\n"
     ]
    }
   ],
   "source": [
    "titles = ['[Verse]','[Chorus]',]\n",
    "for title in titles:\n",
    "    print(title)\n",
    "    for i in range(5):\n",
    "        sentence = generate_sentence(song_dict_1, count=random.choice([6,7,8,9]))\n",
    "        print(sentence)\n",
    "    print('')"
   ]
  },
  {
   "cell_type": "code",
   "execution_count": 10,
   "metadata": {},
   "outputs": [],
   "source": [
    "song_dict_2 = defaultdict(list)\n",
    "song_list_2 = []\n",
    "for song in songs['Lyrics (No Punc)']:\n",
    "    song_list_2.append(markov_chain(song,n=2))\n",
    "    \n",
    "for d in song_list_2:\n",
    "    for key, value in d.items():\n",
    "        song_dict_2[key].extend(value)"
   ]
  },
  {
   "cell_type": "code",
   "execution_count": 14,
   "metadata": {},
   "outputs": [
    {
     "name": "stdout",
     "output_type": "stream",
     "text": [
      "[Verse]\n",
      "Can put it in the movies\n",
      "Walk through fire for you to tell me\n",
      "She pick a crip shawty call me but\n",
      "Live they mutilated his body and\n",
      "Me youre the man i think theres a\n",
      "\n",
      "[Chorus]\n",
      "Terry malloy play it for myself\n",
      "Weve got a lotta love on\n",
      "Lala you know i dont rap about killing and\n",
      "Ill lay down face down in the kitchen and\n",
      "Nights i cant even mess it up formalize\n",
      "\n"
     ]
    }
   ],
   "source": [
    "titles = ['[Verse]','[Chorus]',]\n",
    "for title in titles:\n",
    "    print(title)\n",
    "    for i in range(5):\n",
    "        sentence = generate_sentence(song_dict_2, count=random.choice([6,7,8,9]),n=2)\n",
    "        print(sentence)\n",
    "    print('')"
   ]
  },
  {
   "cell_type": "code",
   "execution_count": null,
   "metadata": {},
   "outputs": [],
   "source": []
  }
 ],
 "metadata": {
  "kernelspec": {
   "display_name": "Python 3",
   "language": "python",
   "name": "python3"
  },
  "language_info": {
   "codemirror_mode": {
    "name": "ipython",
    "version": 3
   },
   "file_extension": ".py",
   "mimetype": "text/x-python",
   "name": "python",
   "nbconvert_exporter": "python",
   "pygments_lexer": "ipython3",
   "version": "3.7.6"
  }
 },
 "nbformat": 4,
 "nbformat_minor": 4
}
