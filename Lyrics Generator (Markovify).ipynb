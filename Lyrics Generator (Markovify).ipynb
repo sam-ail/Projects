{
 "cells": [
  {
   "cell_type": "code",
   "execution_count": 1,
   "metadata": {},
   "outputs": [],
   "source": [
    "import pandas as pd\n",
    "import markovify"
   ]
  },
  {
   "cell_type": "code",
   "execution_count": 32,
   "metadata": {},
   "outputs": [],
   "source": [
    "def markov_chain(excel_data):\n",
    "    data = pd.read_excel(excel_data)\n",
    "    print(data.shape)\n",
    "    markovify_TextModel = markovify.Text(data['Lyrics'])\n",
    "    for i in range(3):\n",
    "        text = markovify_TextModel.make_short_sentence(400,tries=100)\n",
    "        lyrics = text.split(' ')\n",
    "        i = len(lyrics)\n",
    "        \n",
    "        if i > 15:\n",
    "            print(\" \".join(lyrics[0:round(i/5)]))\n",
    "            print(\" \".join(lyrics[round(i/5):round(2*i/5)]))\n",
    "            print(\" \".join(lyrics[round(2*i/5):round(3*i/5)]))\n",
    "            print(\" \".join(lyrics[round(3*i/5):round(4*i/5)]))\n",
    "            print(\" \".join(lyrics[round(4*i/5):round(5*i/5)]))\n",
    "            print('')"
   ]
  },
  {
   "cell_type": "code",
   "execution_count": 36,
   "metadata": {},
   "outputs": [
    {
     "name": "stdout",
     "output_type": "stream",
     "text": [
      "(100, 12)\n",
      "I just want to\n",
      "be near you Dancing\n",
      "around your room\n",
      "Tell me everything Am\n",
      "I wasting my time?\n",
      "\n",
      "Didn't even notice, no\n",
      "punches left to roll with\n",
      "You got more than\n",
      "-, babe Made of glass\n",
      "the way it ends?\n",
      "\n"
     ]
    }
   ],
   "source": [
    "markov_chain(r'2020.xlsx') # Using 100 song lyrics"
   ]
  },
  {
   "cell_type": "code",
   "execution_count": 41,
   "metadata": {},
   "outputs": [
    {
     "name": "stdout",
     "output_type": "stream",
     "text": [
      "(160, 13)\n",
      "I don't wanna know, oh But I know\n",
      "maybe I'm too late, I could never\n",
      "lose you Maybe spend a night out on\n",
      "the bottom, bae You know I like\n",
      "your style You, you Are you the same?\n",
      "\n",
      "You'd come over and\n",
      "you'd stay the same\n",
      "place It's like we're looking\n",
      "for the same Is\n",
      "it easier to go?\n",
      "\n"
     ]
    }
   ],
   "source": [
    "markov_chain(r'2020_2.xlsx') # Using 160 song lyrics"
   ]
  },
  {
   "cell_type": "code",
   "execution_count": 45,
   "metadata": {},
   "outputs": [
    {
     "name": "stdout",
     "output_type": "stream",
     "text": [
      "(257, 13)\n",
      "I wanna be your biggest fan\n",
      "and you'll be mine But I\n",
      "watch your eyes You know I love\n",
      "you, baby Trust in me when\n",
      "I say I told you so?\n",
      "\n",
      "Now you'll never see me thrive, you\n",
      "lied Just say to me Wherever we\n",
      "are is where I wanna Ride\n",
      "it, ride it, let me feel you\n",
      "Won't you take it away from me?\n",
      "\n",
      "It's been a year ago Was hoping you\n",
      "would let it go and you did\n",
      "And I was feeling Whitney, me and I'm\n",
      "brand new When we're dancing around your\n",
      "room Spiraling steady when you lie to me?\n",
      "\n"
     ]
    }
   ],
   "source": [
    "markov_chain(r'2020_3.xlsx') #Using 258 song lyrics"
   ]
  },
  {
   "cell_type": "markdown",
   "metadata": {},
   "source": [
    "### Lyrics Generated using markovify on 160 songs\n",
    "Try no 1\n",
    "<br>[Verse]\n",
    "<br>Do you love me, love me, love me, love me,\n",
    "<br>I wanna be free,\n",
    "<br>I I thought you ever kiss me,\n",
    "<br>If all of this town I can feel it on fire,\n",
    "\n",
    "<br>[Chorus]\n",
    "<br>You'd come over and you'd stay the same Is it easier to go,\n",
    "<br>Baby, tell me What are you talking about,\n",
    "<br>Make up your mind, tell me how you feelin',\n",
    "<br>Say oh oh Freedom, yeah Say oh oh oh My super power\n",
    "\n",
    "<br>\n",
    "<br>Try no 2\n",
    "<br>[Verse]\n",
    "<br>Keep, keep, keep Why do we keep when the water runs,\n",
    "<br>Why do we leave when the water runs,\n",
    "<br>Woah JB, JB Why you tryna keep me teeny now,\n",
    "<br>Why do we keep when the chase is done,\n",
    "\n",
    "<br>[Chorus]\n",
    "<br>Do you love me for the hell did we do,\n",
    "<br>Do you love me, love me, love me, love me, love me,\n",
    "<br>Keep, keep, keep Why do we keep when the chase is done,\n",
    "<br>I ain't no player, I just want to be with you\n",
    "\n",
    "<br>\n",
    "<br>Try no 3\n",
    "<br>[Verse]\n",
    "<br>You got to go up Why you actin',\n",
    "<br>Oh Do you love me So we can live life like Britney, bitch!\n",
    "<br>I could make it all again All again\n",
    "<br>Bought a zip code at the top, bae\n",
    "\n",
    "<br>[Chorus]\n",
    "<br>Don't you wanna be, do you sing with an English accent,\n",
    "<br>Do you love me So what a man gotta prove,\n",
    "<br>Your girl need it all stop hurting,\n",
    "<br>Why is it fast enough,\n",
    "\n",
    "<br>\n",
    "<br>Try no 4\n",
    "<br>[Verse]\n",
    "<br>Burning the tears right off my release day, huh,\n",
    "<br>Woah JB, JB Why you always in a band when I say\n",
    "<br>Ooh, break my heart Ooh Am I wasting my time,\n",
    "<br>Fuck you I just making a mess,\n",
    "\n",
    "<br>[Chorus]\n",
    "<br>Now look at you, now look at me, how you feelin',\n",
    "<br>You got to keep me teeny now,\n",
    "<br>Now look at me, how you feelin',\n",
    "<br>Baby, tell me What are you the same,\n"
   ]
  },
  {
   "cell_type": "markdown",
   "metadata": {},
   "source": [
    "### Lyrics Generated using markovify on 256 songs\n",
    "<br>Try no 1\n",
    "<br>[Verse]\n",
    "<br>Why do we leave when the water runs,\n",
    "<br>I guess I've had it No you ain't from the shallow now\n",
    "<br>We walk the line and try to stay What have I become now,\n",
    "<br>Are you gonna do,\n",
    "\n",
    "\n",
    "<br>[Chorus]\n",
    "<br>Can't you see me,\n",
    "<br>Wouldn't you like that,\n",
    "<br>If you need more,\n",
    "<br>When all I do it again,\n",
    "\n",
    "\n",
    "\n",
    "\n",
    "<br>\n",
    "<br>Try no 2\n",
    "<br>[Verse]\n",
    "<br>Would I do it all stop hurting,\n",
    "<br>Turn you to go set it on fire,\n",
    "<br>Oh, by the name I gave you that dust,\n",
    "<br>Maybe I guess I've had it rough But you like that,\n",
    "\n",
    "\n",
    "<br>[Chorus]\n",
    "<br>I do it all then would I do it for you,\n",
    "<br>Why don't I do is for you,\n",
    "<br>I I thought you ever kiss me,\n",
    "<br>Is it okay if I believed those words,\n",
    "\n",
    "\n",
    "\n",
    "\n",
    "<br>\n",
    "<br>Try no 3\n",
    "<br>[Verse]\n",
    "<br>I am I'm not enough\n",
    "<br>There's a whole lot more for me to not want half,\n",
    "<br>Is it okay if I believed those words,\n",
    "<br>What are you the same,\n",
    "\n",
    "\n",
    "<br>[Chorus]\n",
    "<br>Tell me somethin', girl Are you gonna do,\n",
    "<br>You say you wanna be, do you wanna be, do you care for me,\n",
    "<br>Baby, right now it feels so cold in here I am I'm not enough\n",
    "<br>Was I stupid to love me for the same Is it easier to go,\n",
    "\n",
    "\n",
    "\n",
    "\n",
    "<br>\n",
    "<br>Try no 4\n",
    "<br>[Verse]\n",
    "<br>Now look at me, how you feelin',\n",
    "<br>I wonder what's on your face When you could be GLAAD,\n",
    "<br>Always wanted to see me,\n",
    "<br>Why do you know,\n",
    "\n",
    "\n",
    "<br>[Chorus]\n",
    "<br>Ooh, break my heart,\n",
    "<br>Or do you know,\n",
    "<br>Almost gave it away from fair Was I reckless to help,\n",
    "<br>The sky'd be falling while I die Why would you ever kiss me,\n"
   ]
  }
 ],
 "metadata": {
  "kernelspec": {
   "display_name": "Python 3",
   "language": "python",
   "name": "python3"
  },
  "language_info": {
   "codemirror_mode": {
    "name": "ipython",
    "version": 3
   },
   "file_extension": ".py",
   "mimetype": "text/x-python",
   "name": "python",
   "nbconvert_exporter": "python",
   "pygments_lexer": "ipython3",
   "version": "3.7.6"
  }
 },
 "nbformat": 4,
 "nbformat_minor": 4
}
