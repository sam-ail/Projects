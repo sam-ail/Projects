{
 "cells": [
  {
   "cell_type": "markdown",
   "metadata": {},
   "source": [
    "## Setup"
   ]
  },
  {
   "cell_type": "code",
   "execution_count": 1,
   "metadata": {},
   "outputs": [],
   "source": [
    "import pandas as pd\n",
    "import numpy as np\n",
    "import matplotlib.pyplot as plt\n",
    "plt.rcParams['figure.figsize'] = (17, 7)\n",
    "plt.rcParams.update({'font.size': 14})\n",
    "import seaborn as sns\n",
    "\n",
    "#improve resolution\n",
    "#comment this line if erroring on your machine/screen\n",
    "%config InlineBackend.figure_format ='retina'\n",
    "\n",
    "import warnings\n",
    "warnings.filterwarnings('ignore')\n",
    "\n",
    "#import natural language toolkit\n",
    "import nltk\n",
    "\n",
    "\n",
    "from sklearn.preprocessing import StandardScaler\n",
    "from sklearn.decomposition import PCA\n",
    "from sklearn.datasets import load_digits\n",
    "from scipy.stats import chisquare\n",
    "from sklearn.feature_extraction.text import TfidfVectorizer"
   ]
  },
  {
   "cell_type": "code",
   "execution_count": 2,
   "metadata": {},
   "outputs": [
    {
     "name": "stderr",
     "output_type": "stream",
     "text": [
      "[nltk_data] Downloading package punkt to\n",
      "[nltk_data]     C:\\Users\\Sama\\AppData\\Roaming\\nltk_data...\n",
      "[nltk_data]   Package punkt is already up-to-date!\n"
     ]
    },
    {
     "data": {
      "text/plain": [
       "True"
      ]
     },
     "execution_count": 2,
     "metadata": {},
     "output_type": "execute_result"
    }
   ],
   "source": [
    "nltk.download('punkt')"
   ]
  },
  {
   "cell_type": "code",
   "execution_count": 3,
   "metadata": {},
   "outputs": [],
   "source": [
    "from nltk.tokenize import sent_tokenize, word_tokenize"
   ]
  },
  {
   "cell_type": "markdown",
   "metadata": {},
   "source": [
    "## Importing the Required Datasets"
   ]
  },
  {
   "cell_type": "code",
   "execution_count": 4,
   "metadata": {},
   "outputs": [],
   "source": [
    "inspections_filepath = 'data/data/inspections.csv'\n",
    "df_inspections = pd.read_csv(inspections_filepath)"
   ]
  },
  {
   "cell_type": "code",
   "execution_count": 5,
   "metadata": {},
   "outputs": [],
   "source": [
    "violations_filepath = 'data/data/violations.csv'\n",
    "df_violations = pd.read_csv(violations_filepath)"
   ]
  },
  {
   "cell_type": "code",
   "execution_count": 6,
   "metadata": {},
   "outputs": [],
   "source": [
    "zipcodes_filepath = 'data/data/zipcodes.csv'\n",
    "df_zipcodes = pd.read_csv(zipcodes_filepath)"
   ]
  },
  {
   "cell_type": "markdown",
   "metadata": {},
   "source": [
    "## Filtering out columns"
   ]
  },
  {
   "cell_type": "code",
   "execution_count": 7,
   "metadata": {},
   "outputs": [],
   "source": [
    "df_inspections = df_inspections.drop(['date','name','address1','address2','city','state','phonenumber','restaurantopendate',\n",
    "                     'days_from_open_date','facilitytype','type','description','inspectedby','inspection_num',\n",
    "                     'inspector_id','previous_inspection_date','days_since_previous_inspection',\n",
    "                     'previous_inspection_by_same_inspector', 'num_critical_previous', 'num_non_critical_previous',\n",
    "                     'num_critical_mean_previous', 'num_non_critical_mean_previous', 'avg_neighbor_num_critical', \n",
    "                     'avg_neighbor_num_non_critical', 'top_match', 'second_match', 'critical'], axis = 1)"
   ]
  },
  {
   "cell_type": "code",
   "execution_count": 8,
   "metadata": {},
   "outputs": [
    {
     "data": {
      "text/html": [
       "<div>\n",
       "<style scoped>\n",
       "    .dataframe tbody tr th:only-of-type {\n",
       "        vertical-align: middle;\n",
       "    }\n",
       "\n",
       "    .dataframe tbody tr th {\n",
       "        vertical-align: top;\n",
       "    }\n",
       "\n",
       "    .dataframe thead th {\n",
       "        text-align: right;\n",
       "    }\n",
       "</style>\n",
       "<table border=\"1\" class=\"dataframe\">\n",
       "  <thead>\n",
       "    <tr style=\"text-align: right;\">\n",
       "      <th></th>\n",
       "      <th>hsisid</th>\n",
       "      <th>postalcode</th>\n",
       "      <th>x</th>\n",
       "      <th>y</th>\n",
       "      <th>geocodestatus</th>\n",
       "      <th>zip</th>\n",
       "      <th>score</th>\n",
       "      <th>num_critical</th>\n",
       "      <th>num_non_critical</th>\n",
       "    </tr>\n",
       "  </thead>\n",
       "  <tbody>\n",
       "    <tr>\n",
       "      <th>0</th>\n",
       "      <td>4092013748</td>\n",
       "      <td>27610</td>\n",
       "      <td>-78.587963</td>\n",
       "      <td>35.783914</td>\n",
       "      <td>M</td>\n",
       "      <td>27610</td>\n",
       "      <td>96.0</td>\n",
       "      <td>9</td>\n",
       "      <td>7</td>\n",
       "    </tr>\n",
       "    <tr>\n",
       "      <th>1</th>\n",
       "      <td>4092014046</td>\n",
       "      <td>27610</td>\n",
       "      <td>-78.549673</td>\n",
       "      <td>35.791986</td>\n",
       "      <td>M</td>\n",
       "      <td>27610</td>\n",
       "      <td>98.0</td>\n",
       "      <td>0</td>\n",
       "      <td>11</td>\n",
       "    </tr>\n",
       "    <tr>\n",
       "      <th>2</th>\n",
       "      <td>4092015191</td>\n",
       "      <td>27610</td>\n",
       "      <td>-78.547960</td>\n",
       "      <td>35.723125</td>\n",
       "      <td>M</td>\n",
       "      <td>27610</td>\n",
       "      <td>97.0</td>\n",
       "      <td>4</td>\n",
       "      <td>8</td>\n",
       "    </tr>\n",
       "    <tr>\n",
       "      <th>3</th>\n",
       "      <td>4092016122</td>\n",
       "      <td>27513</td>\n",
       "      <td>-78.815727</td>\n",
       "      <td>35.799249</td>\n",
       "      <td>M</td>\n",
       "      <td>27513</td>\n",
       "      <td>99.0</td>\n",
       "      <td>2</td>\n",
       "      <td>3</td>\n",
       "    </tr>\n",
       "    <tr>\n",
       "      <th>4</th>\n",
       "      <td>4092021513</td>\n",
       "      <td>27597</td>\n",
       "      <td>-78.296347</td>\n",
       "      <td>35.831285</td>\n",
       "      <td>M</td>\n",
       "      <td>27597</td>\n",
       "      <td>97.0</td>\n",
       "      <td>2</td>\n",
       "      <td>4</td>\n",
       "    </tr>\n",
       "  </tbody>\n",
       "</table>\n",
       "</div>"
      ],
      "text/plain": [
       "       hsisid postalcode          x          y geocodestatus    zip  score  \\\n",
       "0  4092013748      27610 -78.587963  35.783914             M  27610   96.0   \n",
       "1  4092014046      27610 -78.549673  35.791986             M  27610   98.0   \n",
       "2  4092015191      27610 -78.547960  35.723125             M  27610   97.0   \n",
       "3  4092016122      27513 -78.815727  35.799249             M  27513   99.0   \n",
       "4  4092021513      27597 -78.296347  35.831285             M  27597   97.0   \n",
       "\n",
       "   num_critical  num_non_critical  \n",
       "0             9                 7  \n",
       "1             0                11  \n",
       "2             4                 8  \n",
       "3             2                 3  \n",
       "4             2                 4  "
      ]
     },
     "execution_count": 8,
     "metadata": {},
     "output_type": "execute_result"
    }
   ],
   "source": [
    "df_inspections.head()"
   ]
  },
  {
   "cell_type": "code",
   "execution_count": 9,
   "metadata": {},
   "outputs": [],
   "source": [
    "df_violations = df_violations.drop(['X.objectid', 'inspectdate', 'category', 'statecode', 'questionno', 'violationcode', 'severity',\n",
    "                    'shortdesc', 'inspectedby', 'pointvalue', 'observationtype', 'violationtype', 'count',\n",
    "                    'cdcdataitem'], axis = 1)"
   ]
  },
  {
   "cell_type": "code",
   "execution_count": 10,
   "metadata": {},
   "outputs": [
    {
     "data": {
      "text/html": [
       "<div>\n",
       "<style scoped>\n",
       "    .dataframe tbody tr th:only-of-type {\n",
       "        vertical-align: middle;\n",
       "    }\n",
       "\n",
       "    .dataframe tbody tr th {\n",
       "        vertical-align: top;\n",
       "    }\n",
       "\n",
       "    .dataframe thead th {\n",
       "        text-align: right;\n",
       "    }\n",
       "</style>\n",
       "<table border=\"1\" class=\"dataframe\">\n",
       "  <thead>\n",
       "    <tr style=\"text-align: right;\">\n",
       "      <th></th>\n",
       "      <th>zip</th>\n",
       "      <th>median_family_income_dollars</th>\n",
       "      <th>median_household_income_dollars</th>\n",
       "      <th>per_capita_income_dollars</th>\n",
       "      <th>percent_damilies_below_poverty_line</th>\n",
       "      <th>percent_snap_benefits</th>\n",
       "      <th>percent_supplemental_security_income</th>\n",
       "      <th>percent_nonwhite</th>\n",
       "    </tr>\n",
       "  </thead>\n",
       "  <tbody>\n",
       "    <tr>\n",
       "      <th>0</th>\n",
       "      <td>27501</td>\n",
       "      <td>59408</td>\n",
       "      <td>51121</td>\n",
       "      <td>21631</td>\n",
       "      <td>10.5</td>\n",
       "      <td>15.5</td>\n",
       "      <td>5.2</td>\n",
       "      <td>17.9</td>\n",
       "    </tr>\n",
       "    <tr>\n",
       "      <th>1</th>\n",
       "      <td>27502</td>\n",
       "      <td>109891</td>\n",
       "      <td>95857</td>\n",
       "      <td>36763</td>\n",
       "      <td>3.4</td>\n",
       "      <td>2.4</td>\n",
       "      <td>0.8</td>\n",
       "      <td>18.9</td>\n",
       "    </tr>\n",
       "    <tr>\n",
       "      <th>2</th>\n",
       "      <td>27511</td>\n",
       "      <td>82292</td>\n",
       "      <td>67392</td>\n",
       "      <td>33139</td>\n",
       "      <td>9.6</td>\n",
       "      <td>4.5</td>\n",
       "      <td>2.2</td>\n",
       "      <td>24.8</td>\n",
       "    </tr>\n",
       "    <tr>\n",
       "      <th>3</th>\n",
       "      <td>27513</td>\n",
       "      <td>109736</td>\n",
       "      <td>87262</td>\n",
       "      <td>41232</td>\n",
       "      <td>3.8</td>\n",
       "      <td>2.4</td>\n",
       "      <td>1.5</td>\n",
       "      <td>27.8</td>\n",
       "    </tr>\n",
       "    <tr>\n",
       "      <th>4</th>\n",
       "      <td>27518</td>\n",
       "      <td>125432</td>\n",
       "      <td>98247</td>\n",
       "      <td>49865</td>\n",
       "      <td>5.5</td>\n",
       "      <td>1.0</td>\n",
       "      <td>1.7</td>\n",
       "      <td>19.9</td>\n",
       "    </tr>\n",
       "  </tbody>\n",
       "</table>\n",
       "</div>"
      ],
      "text/plain": [
       "     zip  median_family_income_dollars  median_household_income_dollars  \\\n",
       "0  27501                         59408                            51121   \n",
       "1  27502                        109891                            95857   \n",
       "2  27511                         82292                            67392   \n",
       "3  27513                        109736                            87262   \n",
       "4  27518                        125432                            98247   \n",
       "\n",
       "   per_capita_income_dollars  percent_damilies_below_poverty_line  \\\n",
       "0                      21631                                 10.5   \n",
       "1                      36763                                  3.4   \n",
       "2                      33139                                  9.6   \n",
       "3                      41232                                  3.8   \n",
       "4                      49865                                  5.5   \n",
       "\n",
       "   percent_snap_benefits  percent_supplemental_security_income  \\\n",
       "0                   15.5                                   5.2   \n",
       "1                    2.4                                   0.8   \n",
       "2                    4.5                                   2.2   \n",
       "3                    2.4                                   1.5   \n",
       "4                    1.0                                   1.7   \n",
       "\n",
       "   percent_nonwhite  \n",
       "0              17.9  \n",
       "1              18.9  \n",
       "2              24.8  \n",
       "3              27.8  \n",
       "4              19.9  "
      ]
     },
     "execution_count": 10,
     "metadata": {},
     "output_type": "execute_result"
    }
   ],
   "source": [
    "df_zipcodes.head()"
   ]
  },
  {
   "cell_type": "markdown",
   "metadata": {},
   "source": [
    "## Merging Datasets for Socio-Economic Status"
   ]
  },
  {
   "cell_type": "code",
   "execution_count": 11,
   "metadata": {},
   "outputs": [],
   "source": [
    "df = pd.merge(df_violations, df_inspections, on = 'hsisid')"
   ]
  },
  {
   "cell_type": "code",
   "execution_count": 12,
   "metadata": {},
   "outputs": [
    {
     "data": {
      "text/html": [
       "<div>\n",
       "<style scoped>\n",
       "    .dataframe tbody tr th:only-of-type {\n",
       "        vertical-align: middle;\n",
       "    }\n",
       "\n",
       "    .dataframe tbody tr th {\n",
       "        vertical-align: top;\n",
       "    }\n",
       "\n",
       "    .dataframe thead th {\n",
       "        text-align: right;\n",
       "    }\n",
       "</style>\n",
       "<table border=\"1\" class=\"dataframe\">\n",
       "  <thead>\n",
       "    <tr style=\"text-align: right;\">\n",
       "      <th></th>\n",
       "      <th>hsisid</th>\n",
       "      <th>critical</th>\n",
       "      <th>comments</th>\n",
       "      <th>cdcriskfactor</th>\n",
       "      <th>postalcode</th>\n",
       "      <th>x</th>\n",
       "      <th>y</th>\n",
       "      <th>geocodestatus</th>\n",
       "      <th>zip</th>\n",
       "      <th>score</th>\n",
       "      <th>num_critical</th>\n",
       "      <th>num_non_critical</th>\n",
       "      <th>median_family_income_dollars</th>\n",
       "      <th>median_household_income_dollars</th>\n",
       "      <th>per_capita_income_dollars</th>\n",
       "      <th>percent_damilies_below_poverty_line</th>\n",
       "      <th>percent_snap_benefits</th>\n",
       "      <th>percent_supplemental_security_income</th>\n",
       "      <th>percent_nonwhite</th>\n",
       "    </tr>\n",
       "  </thead>\n",
       "  <tbody>\n",
       "    <tr>\n",
       "      <th>0</th>\n",
       "      <td>4092013840</td>\n",
       "      <td>Yes</td>\n",
       "      <td>7-102.11; Priority Foundation - Found unlabele...</td>\n",
       "      <td>NaN</td>\n",
       "      <td>27513</td>\n",
       "      <td>-78.771157</td>\n",
       "      <td>35.826999</td>\n",
       "      <td>M</td>\n",
       "      <td>27513</td>\n",
       "      <td>98.5</td>\n",
       "      <td>0</td>\n",
       "      <td>6</td>\n",
       "      <td>109736</td>\n",
       "      <td>87262</td>\n",
       "      <td>41232</td>\n",
       "      <td>3.8</td>\n",
       "      <td>2.4</td>\n",
       "      <td>1.5</td>\n",
       "      <td>27.8</td>\n",
       "    </tr>\n",
       "    <tr>\n",
       "      <th>1</th>\n",
       "      <td>4092013840</td>\n",
       "      <td>Yes</td>\n",
       "      <td>7-102.11; Priority Foundation - Found unlabele...</td>\n",
       "      <td>NaN</td>\n",
       "      <td>27513</td>\n",
       "      <td>-78.771157</td>\n",
       "      <td>35.826999</td>\n",
       "      <td>M</td>\n",
       "      <td>27513</td>\n",
       "      <td>96.5</td>\n",
       "      <td>4</td>\n",
       "      <td>13</td>\n",
       "      <td>109736</td>\n",
       "      <td>87262</td>\n",
       "      <td>41232</td>\n",
       "      <td>3.8</td>\n",
       "      <td>2.4</td>\n",
       "      <td>1.5</td>\n",
       "      <td>27.8</td>\n",
       "    </tr>\n",
       "    <tr>\n",
       "      <th>2</th>\n",
       "      <td>4092013840</td>\n",
       "      <td>Yes</td>\n",
       "      <td>7-102.11; Priority Foundation - Found unlabele...</td>\n",
       "      <td>NaN</td>\n",
       "      <td>27513</td>\n",
       "      <td>-78.771157</td>\n",
       "      <td>35.826999</td>\n",
       "      <td>M</td>\n",
       "      <td>27513</td>\n",
       "      <td>97.0</td>\n",
       "      <td>6</td>\n",
       "      <td>10</td>\n",
       "      <td>109736</td>\n",
       "      <td>87262</td>\n",
       "      <td>41232</td>\n",
       "      <td>3.8</td>\n",
       "      <td>2.4</td>\n",
       "      <td>1.5</td>\n",
       "      <td>27.8</td>\n",
       "    </tr>\n",
       "    <tr>\n",
       "      <th>3</th>\n",
       "      <td>4092013840</td>\n",
       "      <td>Yes</td>\n",
       "      <td>7-102.11; Priority Foundation - Found unlabele...</td>\n",
       "      <td>NaN</td>\n",
       "      <td>27513</td>\n",
       "      <td>-78.771157</td>\n",
       "      <td>35.826999</td>\n",
       "      <td>M</td>\n",
       "      <td>27513</td>\n",
       "      <td>96.5</td>\n",
       "      <td>5</td>\n",
       "      <td>7</td>\n",
       "      <td>109736</td>\n",
       "      <td>87262</td>\n",
       "      <td>41232</td>\n",
       "      <td>3.8</td>\n",
       "      <td>2.4</td>\n",
       "      <td>1.5</td>\n",
       "      <td>27.8</td>\n",
       "    </tr>\n",
       "    <tr>\n",
       "      <th>4</th>\n",
       "      <td>4092013840</td>\n",
       "      <td>Yes</td>\n",
       "      <td>7-102.11; Priority Foundation - Found unlabele...</td>\n",
       "      <td>NaN</td>\n",
       "      <td>27513</td>\n",
       "      <td>-78.771157</td>\n",
       "      <td>35.826999</td>\n",
       "      <td>M</td>\n",
       "      <td>27513</td>\n",
       "      <td>94.5</td>\n",
       "      <td>6</td>\n",
       "      <td>11</td>\n",
       "      <td>109736</td>\n",
       "      <td>87262</td>\n",
       "      <td>41232</td>\n",
       "      <td>3.8</td>\n",
       "      <td>2.4</td>\n",
       "      <td>1.5</td>\n",
       "      <td>27.8</td>\n",
       "    </tr>\n",
       "  </tbody>\n",
       "</table>\n",
       "</div>"
      ],
      "text/plain": [
       "       hsisid critical                                           comments  \\\n",
       "0  4092013840      Yes  7-102.11; Priority Foundation - Found unlabele...   \n",
       "1  4092013840      Yes  7-102.11; Priority Foundation - Found unlabele...   \n",
       "2  4092013840      Yes  7-102.11; Priority Foundation - Found unlabele...   \n",
       "3  4092013840      Yes  7-102.11; Priority Foundation - Found unlabele...   \n",
       "4  4092013840      Yes  7-102.11; Priority Foundation - Found unlabele...   \n",
       "\n",
       "  cdcriskfactor postalcode          x          y geocodestatus    zip  score  \\\n",
       "0           NaN      27513 -78.771157  35.826999             M  27513   98.5   \n",
       "1           NaN      27513 -78.771157  35.826999             M  27513   96.5   \n",
       "2           NaN      27513 -78.771157  35.826999             M  27513   97.0   \n",
       "3           NaN      27513 -78.771157  35.826999             M  27513   96.5   \n",
       "4           NaN      27513 -78.771157  35.826999             M  27513   94.5   \n",
       "\n",
       "   num_critical  num_non_critical  median_family_income_dollars  \\\n",
       "0             0                 6                        109736   \n",
       "1             4                13                        109736   \n",
       "2             6                10                        109736   \n",
       "3             5                 7                        109736   \n",
       "4             6                11                        109736   \n",
       "\n",
       "   median_household_income_dollars  per_capita_income_dollars  \\\n",
       "0                            87262                      41232   \n",
       "1                            87262                      41232   \n",
       "2                            87262                      41232   \n",
       "3                            87262                      41232   \n",
       "4                            87262                      41232   \n",
       "\n",
       "   percent_damilies_below_poverty_line  percent_snap_benefits  \\\n",
       "0                                  3.8                    2.4   \n",
       "1                                  3.8                    2.4   \n",
       "2                                  3.8                    2.4   \n",
       "3                                  3.8                    2.4   \n",
       "4                                  3.8                    2.4   \n",
       "\n",
       "   percent_supplemental_security_income  percent_nonwhite  \n",
       "0                                   1.5              27.8  \n",
       "1                                   1.5              27.8  \n",
       "2                                   1.5              27.8  \n",
       "3                                   1.5              27.8  \n",
       "4                                   1.5              27.8  "
      ]
     },
     "execution_count": 12,
     "metadata": {},
     "output_type": "execute_result"
    }
   ],
   "source": [
    "df_v = pd.merge(df, df_zipcodes, on = 'zip')\n",
    "df_v.head()"
   ]
  },
  {
   "cell_type": "code",
   "execution_count": 13,
   "metadata": {},
   "outputs": [],
   "source": [
    "df_i = pd.merge(df_inspections, df_zipcodes, on = 'zip')"
   ]
  },
  {
   "cell_type": "markdown",
   "metadata": {},
   "source": [
    "**Dividing the income per capita into two equal groups, high and low**"
   ]
  },
  {
   "cell_type": "code",
   "execution_count": 14,
   "metadata": {},
   "outputs": [],
   "source": [
    "med_income = df_zipcodes['per_capita_income_dollars'].median()"
   ]
  },
  {
   "cell_type": "code",
   "execution_count": 15,
   "metadata": {},
   "outputs": [],
   "source": [
    "def high_low(income):\n",
    "    if income <= med_income:\n",
    "        return 'Low'\n",
    "    else:\n",
    "        return 'High'"
   ]
  },
  {
   "cell_type": "code",
   "execution_count": 16,
   "metadata": {},
   "outputs": [],
   "source": [
    "df_i['income_category'] = df_i['per_capita_income_dollars'].apply(high_low)"
   ]
  },
  {
   "cell_type": "code",
   "execution_count": 17,
   "metadata": {},
   "outputs": [],
   "source": [
    "df_zipcodes['income_category'] = df_zipcodes['per_capita_income_dollars'].apply(high_low)"
   ]
  },
  {
   "cell_type": "code",
   "execution_count": 47,
   "metadata": {},
   "outputs": [],
   "source": [
    "df_v['income_category'] = df_v['per_capita_income_dollars'].apply(high_low)"
   ]
  },
  {
   "cell_type": "markdown",
   "metadata": {},
   "source": [
    "**Checking to see whether there are any differences between inspection rates for higher vs lower income areas**"
   ]
  },
  {
   "cell_type": "code",
   "execution_count": 52,
   "metadata": {},
   "outputs": [
    {
     "name": "stdout",
     "output_type": "stream",
     "text": [
      "The number of restaurants in higher income areas: 1732\n",
      "The number of restaurants in lower income areas: 1267\n",
      "\n",
      "Inspection count in higher income areas: 10317\n",
      "Inspection count in lower income areas: 7914\n",
      "\n",
      "Inspections per restaurant in higher income areas: 5.956697459584295\n",
      "Inspections per restaurant in lower income areas: 6.246250986582479\n",
      "\n",
      "Violation count in higher income areas: 614394\n",
      "Violation count in lower income areas: 476894\n",
      "\n",
      "Violations per restaurant in higher income areas: 0.03438314886907212\n",
      "Violations per restaurant in lower income areas: 0.04756080509518364\n"
     ]
    }
   ],
   "source": [
    "high_rest = len(df_i[df_i['income_category'] == 'High']['hsisid'].unique())\n",
    "print('The number of restaurants in higher income areas:', high_rest)\n",
    "\n",
    "low_rest = len(df_i[df_i['income_category'] == 'Low']['hsisid'].unique())\n",
    "print('The number of restaurants in lower income areas:', low_rest)\n",
    "\n",
    "inspection_counts = df_i['income_category'].value_counts()\n",
    "print('\\n''Inspection count in higher income areas:', inspection_counts[0])\n",
    "print('Inspection count in lower income areas:', inspection_counts[1])\n",
    "\n",
    "inspection_rate = [inspection_counts[0]/high_rest, inspection_counts[1]/low_rest]\n",
    "print('\\n''Inspections per restaurant in higher income areas:', inspection_rate[0])\n",
    "print('Inspections per restaurant in lower income areas:', inspection_rate[1])\n",
    "\n",
    "violation_counts = df_v['income_category'].value_counts()\n",
    "print('\\n''Violation count in higher income areas:', violation_counts[0])\n",
    "print('Violation count in lower income areas:', violation_counts[1])\n",
    "\n",
    "violation_rate = [violation_counts[0]/inspection_counts[0]/high_rest, violation_counts[1]/inspection_counts[1]/low_rest]\n",
    "print('\\n''Violations per restaurant in higher income areas:', violation_rate[0])\n",
    "print('Violations per restaurant in lower income areas:', violation_rate[1])"
   ]
  },
  {
   "cell_type": "markdown",
   "metadata": {},
   "source": [
    "**As the p-value (shown below) is greater than 0.01, the difference between inspection rates of higher and lower income areas is not significant**"
   ]
  },
  {
   "cell_type": "code",
   "execution_count": 53,
   "metadata": {},
   "outputs": [
    {
     "data": {
      "text/plain": [
       "Power_divergenceResult(statistic=0.006870572744525872, pvalue=0.933939865788918)"
      ]
     },
     "execution_count": 53,
     "metadata": {},
     "output_type": "execute_result"
    }
   ],
   "source": [
    "chisquare([inspection_rate[0],inspection_rate[1]])"
   ]
  },
  {
   "cell_type": "code",
   "execution_count": 54,
   "metadata": {},
   "outputs": [
    {
     "data": {
      "text/plain": [
       "Power_divergenceResult(statistic=0.0021191389384178695, pvalue=0.9632830658564305)"
      ]
     },
     "execution_count": 54,
     "metadata": {},
     "output_type": "execute_result"
    }
   ],
   "source": [
    "chisquare([violation_rate[0],violation_rate[1]])"
   ]
  },
  {
   "cell_type": "markdown",
   "metadata": {},
   "source": [
    "**The following shows the means of different variables grouped by the income category. This was mainly done to see whether there are any differences between scores given to restaurants in higher and lower income areas**"
   ]
  },
  {
   "cell_type": "code",
   "execution_count": 20,
   "metadata": {},
   "outputs": [
    {
     "data": {
      "text/html": [
       "<div>\n",
       "<style scoped>\n",
       "    .dataframe tbody tr th:only-of-type {\n",
       "        vertical-align: middle;\n",
       "    }\n",
       "\n",
       "    .dataframe tbody tr th {\n",
       "        vertical-align: top;\n",
       "    }\n",
       "\n",
       "    .dataframe thead th {\n",
       "        text-align: right;\n",
       "    }\n",
       "</style>\n",
       "<table border=\"1\" class=\"dataframe\">\n",
       "  <thead>\n",
       "    <tr style=\"text-align: right;\">\n",
       "      <th></th>\n",
       "      <th>hsisid</th>\n",
       "      <th>x</th>\n",
       "      <th>y</th>\n",
       "      <th>zip</th>\n",
       "      <th>score</th>\n",
       "      <th>num_critical</th>\n",
       "      <th>num_non_critical</th>\n",
       "      <th>median_family_income_dollars</th>\n",
       "      <th>median_household_income_dollars</th>\n",
       "      <th>per_capita_income_dollars</th>\n",
       "      <th>percent_damilies_below_poverty_line</th>\n",
       "      <th>percent_snap_benefits</th>\n",
       "      <th>percent_supplemental_security_income</th>\n",
       "      <th>percent_nonwhite</th>\n",
       "    </tr>\n",
       "    <tr>\n",
       "      <th>income_category</th>\n",
       "      <th></th>\n",
       "      <th></th>\n",
       "      <th></th>\n",
       "      <th></th>\n",
       "      <th></th>\n",
       "      <th></th>\n",
       "      <th></th>\n",
       "      <th></th>\n",
       "      <th></th>\n",
       "      <th></th>\n",
       "      <th></th>\n",
       "      <th></th>\n",
       "      <th></th>\n",
       "      <th></th>\n",
       "    </tr>\n",
       "  </thead>\n",
       "  <tbody>\n",
       "    <tr>\n",
       "      <th>High</th>\n",
       "      <td>4.092036e+09</td>\n",
       "      <td>-78.719002</td>\n",
       "      <td>35.827265</td>\n",
       "      <td>27566.955316</td>\n",
       "      <td>96.247746</td>\n",
       "      <td>2.943879</td>\n",
       "      <td>5.179510</td>\n",
       "      <td>99647.649123</td>\n",
       "      <td>78875.429195</td>\n",
       "      <td>40430.563827</td>\n",
       "      <td>5.280789</td>\n",
       "      <td>4.357507</td>\n",
       "      <td>1.806862</td>\n",
       "      <td>24.717718</td>\n",
       "    </tr>\n",
       "    <tr>\n",
       "      <th>Low</th>\n",
       "      <td>4.092044e+09</td>\n",
       "      <td>-78.616345</td>\n",
       "      <td>35.771435</td>\n",
       "      <td>27588.858731</td>\n",
       "      <td>96.190296</td>\n",
       "      <td>2.734521</td>\n",
       "      <td>5.184736</td>\n",
       "      <td>62759.464367</td>\n",
       "      <td>52140.142911</td>\n",
       "      <td>24575.988249</td>\n",
       "      <td>14.291180</td>\n",
       "      <td>12.309578</td>\n",
       "      <td>4.653791</td>\n",
       "      <td>40.244364</td>\n",
       "    </tr>\n",
       "  </tbody>\n",
       "</table>\n",
       "</div>"
      ],
      "text/plain": [
       "                       hsisid          x          y           zip      score  \\\n",
       "income_category                                                                \n",
       "High             4.092036e+09 -78.719002  35.827265  27566.955316  96.247746   \n",
       "Low              4.092044e+09 -78.616345  35.771435  27588.858731  96.190296   \n",
       "\n",
       "                 num_critical  num_non_critical  median_family_income_dollars  \\\n",
       "income_category                                                                 \n",
       "High                 2.943879          5.179510                  99647.649123   \n",
       "Low                  2.734521          5.184736                  62759.464367   \n",
       "\n",
       "                 median_household_income_dollars  per_capita_income_dollars  \\\n",
       "income_category                                                               \n",
       "High                                78875.429195               40430.563827   \n",
       "Low                                 52140.142911               24575.988249   \n",
       "\n",
       "                 percent_damilies_below_poverty_line  percent_snap_benefits  \\\n",
       "income_category                                                               \n",
       "High                                        5.280789               4.357507   \n",
       "Low                                        14.291180              12.309578   \n",
       "\n",
       "                 percent_supplemental_security_income  percent_nonwhite  \n",
       "income_category                                                          \n",
       "High                                         1.806862         24.717718  \n",
       "Low                                          4.653791         40.244364  "
      ]
     },
     "execution_count": 20,
     "metadata": {},
     "output_type": "execute_result"
    }
   ],
   "source": [
    "df_i.groupby(['income_category']).mean()"
   ]
  },
  {
   "cell_type": "markdown",
   "metadata": {},
   "source": [
    "# Text Analysis of Violation Comments"
   ]
  },
  {
   "cell_type": "code",
   "execution_count": 21,
   "metadata": {},
   "outputs": [
    {
     "data": {
      "text/html": [
       "<div>\n",
       "<style scoped>\n",
       "    .dataframe tbody tr th:only-of-type {\n",
       "        vertical-align: middle;\n",
       "    }\n",
       "\n",
       "    .dataframe tbody tr th {\n",
       "        vertical-align: top;\n",
       "    }\n",
       "\n",
       "    .dataframe thead th {\n",
       "        text-align: right;\n",
       "    }\n",
       "</style>\n",
       "<table border=\"1\" class=\"dataframe\">\n",
       "  <thead>\n",
       "    <tr style=\"text-align: right;\">\n",
       "      <th></th>\n",
       "      <th>hsisid</th>\n",
       "      <th>critical</th>\n",
       "      <th>comments</th>\n",
       "      <th>cdcriskfactor</th>\n",
       "    </tr>\n",
       "  </thead>\n",
       "  <tbody>\n",
       "    <tr>\n",
       "      <th>0</th>\n",
       "      <td>4092015279</td>\n",
       "      <td>Yes</td>\n",
       "      <td>7-102.11; Priority Foundation - Found unlabele...</td>\n",
       "      <td>NaN</td>\n",
       "    </tr>\n",
       "    <tr>\n",
       "      <th>1</th>\n",
       "      <td>4092014572</td>\n",
       "      <td>Yes</td>\n",
       "      <td>7-102.11; Priority Foundation; One sanitizer b...</td>\n",
       "      <td>NaN</td>\n",
       "    </tr>\n",
       "    <tr>\n",
       "      <th>2</th>\n",
       "      <td>4092015906</td>\n",
       "      <td>Yes</td>\n",
       "      <td>7-102.11; Priority Foundation - Found an unlab...</td>\n",
       "      <td>NaN</td>\n",
       "    </tr>\n",
       "    <tr>\n",
       "      <th>3</th>\n",
       "      <td>4092013840</td>\n",
       "      <td>Yes</td>\n",
       "      <td>7-102.11; Priority Foundation - Found unlabele...</td>\n",
       "      <td>NaN</td>\n",
       "    </tr>\n",
       "    <tr>\n",
       "      <th>4</th>\n",
       "      <td>4092021788</td>\n",
       "      <td>Yes</td>\n",
       "      <td>7-102.11; Priority Foundation - Found one unla...</td>\n",
       "      <td>NaN</td>\n",
       "    </tr>\n",
       "  </tbody>\n",
       "</table>\n",
       "</div>"
      ],
      "text/plain": [
       "       hsisid critical                                           comments  \\\n",
       "0  4092015279      Yes  7-102.11; Priority Foundation - Found unlabele...   \n",
       "1  4092014572      Yes  7-102.11; Priority Foundation; One sanitizer b...   \n",
       "2  4092015906      Yes  7-102.11; Priority Foundation - Found an unlab...   \n",
       "3  4092013840      Yes  7-102.11; Priority Foundation - Found unlabele...   \n",
       "4  4092021788      Yes  7-102.11; Priority Foundation - Found one unla...   \n",
       "\n",
       "  cdcriskfactor  \n",
       "0           NaN  \n",
       "1           NaN  \n",
       "2           NaN  \n",
       "3           NaN  \n",
       "4           NaN  "
      ]
     },
     "execution_count": 21,
     "metadata": {},
     "output_type": "execute_result"
    }
   ],
   "source": [
    "df_violations.head()"
   ]
  },
  {
   "cell_type": "markdown",
   "metadata": {},
   "source": [
    "## Removing rows with no comments"
   ]
  },
  {
   "cell_type": "code",
   "execution_count": 22,
   "metadata": {},
   "outputs": [
    {
     "data": {
      "text/plain": [
       "(448, 4)"
      ]
     },
     "execution_count": 22,
     "metadata": {},
     "output_type": "execute_result"
    }
   ],
   "source": [
    "check_comment = df_violations[df_violations['comments'].isnull()]\n",
    "check_comment.shape"
   ]
  },
  {
   "cell_type": "code",
   "execution_count": 23,
   "metadata": {},
   "outputs": [],
   "source": [
    "df_c = df_violations.dropna()"
   ]
  },
  {
   "cell_type": "markdown",
   "metadata": {},
   "source": [
    "**Most of the comments have numbers in them. To avoid the numbers influencing the text analysis, all digits were removed from the comments**"
   ]
  },
  {
   "cell_type": "code",
   "execution_count": 24,
   "metadata": {},
   "outputs": [],
   "source": [
    "df_c['comments'] = df_c['comments'].str.replace('\\d+', '')"
   ]
  },
  {
   "cell_type": "markdown",
   "metadata": {},
   "source": [
    "**The function below finds the frequency of a word in comments for critical vs non-critical violations**"
   ]
  },
  {
   "cell_type": "code",
   "execution_count": 25,
   "metadata": {},
   "outputs": [],
   "source": [
    "def check_word_freq(df, word):\n",
    "    \n",
    "    critical = df[df['critical'] == 'Yes']['comments'].str.lower().str.contains(word).sum()/df[df['critical'] == 'Yes']['comments'].notnull().sum()\n",
    "    non_critical = df[df['critical'] == 'No']['comments'].str.lower().str.contains(word).sum()/df[df['critical'] == 'No']['comments'].notnull().sum()\n",
    "    \n",
    "    out = pd.DataFrame({'critical_freq': [critical], 'non_critical_freq': [non_critical]})\n",
    "    return out"
   ]
  },
  {
   "cell_type": "code",
   "execution_count": 26,
   "metadata": {},
   "outputs": [
    {
     "data": {
      "text/html": [
       "<div>\n",
       "<style scoped>\n",
       "    .dataframe tbody tr th:only-of-type {\n",
       "        vertical-align: middle;\n",
       "    }\n",
       "\n",
       "    .dataframe tbody tr th {\n",
       "        vertical-align: top;\n",
       "    }\n",
       "\n",
       "    .dataframe thead th {\n",
       "        text-align: right;\n",
       "    }\n",
       "</style>\n",
       "<table border=\"1\" class=\"dataframe\">\n",
       "  <thead>\n",
       "    <tr style=\"text-align: right;\">\n",
       "      <th></th>\n",
       "      <th>critical_freq</th>\n",
       "      <th>non_critical_freq</th>\n",
       "    </tr>\n",
       "  </thead>\n",
       "  <tbody>\n",
       "    <tr>\n",
       "      <th>0</th>\n",
       "      <td>0.008332</td>\n",
       "      <td>0.003299</td>\n",
       "    </tr>\n",
       "  </tbody>\n",
       "</table>\n",
       "</div>"
      ],
      "text/plain": [
       "   critical_freq  non_critical_freq\n",
       "0       0.008332           0.003299"
      ]
     },
     "execution_count": 26,
     "metadata": {},
     "output_type": "execute_result"
    }
   ],
   "source": [
    "check_word_freq(df_c, 'sanitizer')"
   ]
  },
  {
   "cell_type": "markdown",
   "metadata": {},
   "source": [
    "### The next set of code is for cleaning the comments for punctuations, stop-words, etc."
   ]
  },
  {
   "cell_type": "code",
   "execution_count": 27,
   "metadata": {},
   "outputs": [
    {
     "data": {
      "text/html": [
       "<div>\n",
       "<style scoped>\n",
       "    .dataframe tbody tr th:only-of-type {\n",
       "        vertical-align: middle;\n",
       "    }\n",
       "\n",
       "    .dataframe tbody tr th {\n",
       "        vertical-align: top;\n",
       "    }\n",
       "\n",
       "    .dataframe thead th {\n",
       "        text-align: right;\n",
       "    }\n",
       "</style>\n",
       "<table border=\"1\" class=\"dataframe\">\n",
       "  <thead>\n",
       "    <tr style=\"text-align: right;\">\n",
       "      <th></th>\n",
       "      <th>hsisid</th>\n",
       "      <th>critical</th>\n",
       "      <th>comments</th>\n",
       "      <th>cdcriskfactor</th>\n",
       "      <th>comments_token</th>\n",
       "    </tr>\n",
       "  </thead>\n",
       "  <tbody>\n",
       "    <tr>\n",
       "      <th>1449</th>\n",
       "      <td>4092016281</td>\n",
       "      <td>Yes</td>\n",
       "      <td>-.; Priority Foundation;  Unopened packaged ki...</td>\n",
       "      <td>Food from Unsafe Source</td>\n",
       "      <td>[-, ., ;, Priority, Foundation, ;, Unopened, p...</td>\n",
       "    </tr>\n",
       "    <tr>\n",
       "      <th>1450</th>\n",
       "      <td>4092019999</td>\n",
       "      <td>Yes</td>\n",
       "      <td>Violation Codes\\r\\n(A) Fish that are received ...</td>\n",
       "      <td>Food from Unsafe Source</td>\n",
       "      <td>[Violation, Codes, (, A, ), Fish, that, are, r...</td>\n",
       "    </tr>\n",
       "    <tr>\n",
       "      <th>1451</th>\n",
       "      <td>4092019999</td>\n",
       "      <td>Yes</td>\n",
       "      <td>Violation Codes\\r\\n(A) Fish that are received ...</td>\n",
       "      <td>Food from Unsafe Source</td>\n",
       "      <td>[Violation, Codes, (, A, ), Fish, that, are, r...</td>\n",
       "    </tr>\n",
       "    <tr>\n",
       "      <th>1452</th>\n",
       "      <td>4092016029</td>\n",
       "      <td>Yes</td>\n",
       "      <td>-.; Priority; There was only one invoice on ha...</td>\n",
       "      <td>Food from Unsafe Source</td>\n",
       "      <td>[-, ., ;, Priority, ;, There, was, only, one, ...</td>\n",
       "    </tr>\n",
       "    <tr>\n",
       "      <th>1454</th>\n",
       "      <td>4092050011</td>\n",
       "      <td>Yes</td>\n",
       "      <td>P - -. - Chic-fil-A chicken nuggets were deliv...</td>\n",
       "      <td>Food from Unsafe Source</td>\n",
       "      <td>[P, -, -, ., -, Chic-fil-A, chicken, nuggets, ...</td>\n",
       "    </tr>\n",
       "  </tbody>\n",
       "</table>\n",
       "</div>"
      ],
      "text/plain": [
       "          hsisid critical                                           comments  \\\n",
       "1449  4092016281      Yes  -.; Priority Foundation;  Unopened packaged ki...   \n",
       "1450  4092019999      Yes  Violation Codes\\r\\n(A) Fish that are received ...   \n",
       "1451  4092019999      Yes  Violation Codes\\r\\n(A) Fish that are received ...   \n",
       "1452  4092016029      Yes  -.; Priority; There was only one invoice on ha...   \n",
       "1454  4092050011      Yes  P - -. - Chic-fil-A chicken nuggets were deliv...   \n",
       "\n",
       "                cdcriskfactor  \\\n",
       "1449  Food from Unsafe Source   \n",
       "1450  Food from Unsafe Source   \n",
       "1451  Food from Unsafe Source   \n",
       "1452  Food from Unsafe Source   \n",
       "1454  Food from Unsafe Source   \n",
       "\n",
       "                                         comments_token  \n",
       "1449  [-, ., ;, Priority, Foundation, ;, Unopened, p...  \n",
       "1450  [Violation, Codes, (, A, ), Fish, that, are, r...  \n",
       "1451  [Violation, Codes, (, A, ), Fish, that, are, r...  \n",
       "1452  [-, ., ;, Priority, ;, There, was, only, one, ...  \n",
       "1454  [P, -, -, ., -, Chic-fil-A, chicken, nuggets, ...  "
      ]
     },
     "execution_count": 27,
     "metadata": {},
     "output_type": "execute_result"
    }
   ],
   "source": [
    "df_c['comments_token'] = df_c['comments'].apply(word_tokenize) \n",
    "df_c.head()"
   ]
  },
  {
   "cell_type": "code",
   "execution_count": 28,
   "metadata": {},
   "outputs": [
    {
     "name": "stderr",
     "output_type": "stream",
     "text": [
      "[nltk_data] Downloading package stopwords to\n",
      "[nltk_data]     C:\\Users\\Sama\\AppData\\Roaming\\nltk_data...\n",
      "[nltk_data]   Package stopwords is already up-to-date!\n"
     ]
    }
   ],
   "source": [
    "from nltk.corpus import stopwords\n",
    "nltk.download('stopwords')\n",
    "stop_words = set(stopwords.words('english'))"
   ]
  },
  {
   "cell_type": "code",
   "execution_count": 29,
   "metadata": {},
   "outputs": [],
   "source": [
    "df_c['comments_stop'] = df_c['comments_token'].apply(lambda x: [item for item in x if item not in stop_words])"
   ]
  },
  {
   "cell_type": "code",
   "execution_count": 30,
   "metadata": {},
   "outputs": [
    {
     "data": {
      "text/html": [
       "<div>\n",
       "<style scoped>\n",
       "    .dataframe tbody tr th:only-of-type {\n",
       "        vertical-align: middle;\n",
       "    }\n",
       "\n",
       "    .dataframe tbody tr th {\n",
       "        vertical-align: top;\n",
       "    }\n",
       "\n",
       "    .dataframe thead th {\n",
       "        text-align: right;\n",
       "    }\n",
       "</style>\n",
       "<table border=\"1\" class=\"dataframe\">\n",
       "  <thead>\n",
       "    <tr style=\"text-align: right;\">\n",
       "      <th></th>\n",
       "      <th>hsisid</th>\n",
       "      <th>critical</th>\n",
       "      <th>comments</th>\n",
       "      <th>cdcriskfactor</th>\n",
       "      <th>comments_token</th>\n",
       "      <th>comments_stop</th>\n",
       "    </tr>\n",
       "  </thead>\n",
       "  <tbody>\n",
       "    <tr>\n",
       "      <th>1449</th>\n",
       "      <td>4092016281</td>\n",
       "      <td>Yes</td>\n",
       "      <td>-.; Priority Foundation;  Unopened packaged ki...</td>\n",
       "      <td>Food from Unsafe Source</td>\n",
       "      <td>[-, ., ;, Priority, Foundation, ;, Unopened, p...</td>\n",
       "      <td>[-, ., ;, Priority, Foundation, ;, Unopened, p...</td>\n",
       "    </tr>\n",
       "    <tr>\n",
       "      <th>1450</th>\n",
       "      <td>4092019999</td>\n",
       "      <td>Yes</td>\n",
       "      <td>Violation Codes\\r\\n(A) Fish that are received ...</td>\n",
       "      <td>Food from Unsafe Source</td>\n",
       "      <td>[Violation, Codes, (, A, ), Fish, that, are, r...</td>\n",
       "      <td>[Violation, Codes, (, A, ), Fish, received, sa...</td>\n",
       "    </tr>\n",
       "    <tr>\n",
       "      <th>1451</th>\n",
       "      <td>4092019999</td>\n",
       "      <td>Yes</td>\n",
       "      <td>Violation Codes\\r\\n(A) Fish that are received ...</td>\n",
       "      <td>Food from Unsafe Source</td>\n",
       "      <td>[Violation, Codes, (, A, ), Fish, that, are, r...</td>\n",
       "      <td>[Violation, Codes, (, A, ), Fish, received, sa...</td>\n",
       "    </tr>\n",
       "    <tr>\n",
       "      <th>1452</th>\n",
       "      <td>4092016029</td>\n",
       "      <td>Yes</td>\n",
       "      <td>-.; Priority; There was only one invoice on ha...</td>\n",
       "      <td>Food from Unsafe Source</td>\n",
       "      <td>[-, ., ;, Priority, ;, There, was, only, one, ...</td>\n",
       "      <td>[-, ., ;, Priority, ;, There, one, invoice, ha...</td>\n",
       "    </tr>\n",
       "    <tr>\n",
       "      <th>1454</th>\n",
       "      <td>4092050011</td>\n",
       "      <td>Yes</td>\n",
       "      <td>P - -. - Chic-fil-A chicken nuggets were deliv...</td>\n",
       "      <td>Food from Unsafe Source</td>\n",
       "      <td>[P, -, -, ., -, Chic-fil-A, chicken, nuggets, ...</td>\n",
       "      <td>[P, -, -, ., -, Chic-fil-A, chicken, nuggets, ...</td>\n",
       "    </tr>\n",
       "  </tbody>\n",
       "</table>\n",
       "</div>"
      ],
      "text/plain": [
       "          hsisid critical                                           comments  \\\n",
       "1449  4092016281      Yes  -.; Priority Foundation;  Unopened packaged ki...   \n",
       "1450  4092019999      Yes  Violation Codes\\r\\n(A) Fish that are received ...   \n",
       "1451  4092019999      Yes  Violation Codes\\r\\n(A) Fish that are received ...   \n",
       "1452  4092016029      Yes  -.; Priority; There was only one invoice on ha...   \n",
       "1454  4092050011      Yes  P - -. - Chic-fil-A chicken nuggets were deliv...   \n",
       "\n",
       "                cdcriskfactor  \\\n",
       "1449  Food from Unsafe Source   \n",
       "1450  Food from Unsafe Source   \n",
       "1451  Food from Unsafe Source   \n",
       "1452  Food from Unsafe Source   \n",
       "1454  Food from Unsafe Source   \n",
       "\n",
       "                                         comments_token  \\\n",
       "1449  [-, ., ;, Priority, Foundation, ;, Unopened, p...   \n",
       "1450  [Violation, Codes, (, A, ), Fish, that, are, r...   \n",
       "1451  [Violation, Codes, (, A, ), Fish, that, are, r...   \n",
       "1452  [-, ., ;, Priority, ;, There, was, only, one, ...   \n",
       "1454  [P, -, -, ., -, Chic-fil-A, chicken, nuggets, ...   \n",
       "\n",
       "                                          comments_stop  \n",
       "1449  [-, ., ;, Priority, Foundation, ;, Unopened, p...  \n",
       "1450  [Violation, Codes, (, A, ), Fish, received, sa...  \n",
       "1451  [Violation, Codes, (, A, ), Fish, received, sa...  \n",
       "1452  [-, ., ;, Priority, ;, There, one, invoice, ha...  \n",
       "1454  [P, -, -, ., -, Chic-fil-A, chicken, nuggets, ...  "
      ]
     },
     "execution_count": 30,
     "metadata": {},
     "output_type": "execute_result"
    }
   ],
   "source": [
    "df_c.head()"
   ]
  },
  {
   "cell_type": "code",
   "execution_count": 31,
   "metadata": {},
   "outputs": [],
   "source": [
    "from nltk.stem import PorterStemmer\n",
    "\n",
    "ps = PorterStemmer()"
   ]
  },
  {
   "cell_type": "code",
   "execution_count": 32,
   "metadata": {},
   "outputs": [],
   "source": [
    "df_c['comments_stem'] = df_c['comments_stop'].apply(lambda x: [ps.stem(y) for y in x])"
   ]
  },
  {
   "cell_type": "code",
   "execution_count": 33,
   "metadata": {},
   "outputs": [],
   "source": [
    "comments_critical = df_c[df_c['critical'] == 'Yes']['comments_stem'].apply(pd.Series).stack()"
   ]
  },
  {
   "cell_type": "code",
   "execution_count": 34,
   "metadata": {},
   "outputs": [],
   "source": [
    "comments_non_critical = df_c[df_c['critical'] == 'No']['comments_stem'].apply(pd.Series).stack()"
   ]
  },
  {
   "cell_type": "markdown",
   "metadata": {},
   "source": [
    "**Figuring out the frequency distribution of the words used in comments for critical vs non-critical violatons**"
   ]
  },
  {
   "cell_type": "code",
   "execution_count": 35,
   "metadata": {},
   "outputs": [],
   "source": [
    "from nltk.probability import FreqDist\n",
    "import string\n",
    "\n",
    "# calculation word frequency\n",
    "fdist_comments_critical = FreqDist(comments_critical)\n",
    "fdist_comments_non_critical = FreqDist(comments_non_critical)"
   ]
  },
  {
   "cell_type": "code",
   "execution_count": 36,
   "metadata": {},
   "outputs": [],
   "source": [
    "for punc in string.punctuation:\n",
    "    del fdist_comments_critical[punc]\n",
    "    del fdist_comments_non_critical[punc]"
   ]
  },
  {
   "cell_type": "code",
   "execution_count": 37,
   "metadata": {
    "scrolled": true
   },
   "outputs": [
    {
     "data": {
      "image/png": "[encoded data removed]",
      "text/plain": [
       "<Figure size 1224x504 with 1 Axes>"
      ]
     },
     "metadata": {
      "image/png": {
       "height": 491,
       "width": 1032
      },
      "needs_background": "light"
     },
     "output_type": "display_data"
    },
    {
     "data": {
      "text/plain": [
       "<matplotlib.axes._subplots.AxesSubplot at 0x1734b2b3848>"
      ]
     },
     "execution_count": 37,
     "metadata": {},
     "output_type": "execute_result"
    }
   ],
   "source": [
    "fdist_comments_critical.plot(20, cumulative=False)"
   ]
  },
  {
   "cell_type": "code",
   "execution_count": 38,
   "metadata": {},
   "outputs": [
    {
     "data": {
      "image/png": "[encoded data removed]",
      "text/plain": [
       "<Figure size 1224x504 with 1 Axes>"
      ]
     },
     "metadata": {
      "image/png": {
       "height": 480,
       "width": 1032
      },
      "needs_background": "light"
     },
     "output_type": "display_data"
    },
    {
     "data": {
      "text/plain": [
       "<matplotlib.axes._subplots.AxesSubplot at 0x1734b62d848>"
      ]
     },
     "execution_count": 38,
     "metadata": {},
     "output_type": "execute_result"
    }
   ],
   "source": [
    "fdist_comments_non_critical.plot(20, cumulative=False)"
   ]
  },
  {
   "cell_type": "markdown",
   "metadata": {},
   "source": [
    "### The code above looked at the raw frequencies, the following set of code weighs unique things to help compare critical vs non-critical comments"
   ]
  },
  {
   "cell_type": "code",
   "execution_count": 39,
   "metadata": {},
   "outputs": [],
   "source": [
    "tfidf = TfidfVectorizer(sublinear_tf=True,\n",
    "                        analyzer='word',\n",
    "                        max_features=2000,\n",
    "                        tokenizer=word_tokenize,\n",
    "                        stop_words=stop_words)"
   ]
  },
  {
   "cell_type": "code",
   "execution_count": 40,
   "metadata": {},
   "outputs": [],
   "source": [
    "critical_list = list(df_c[df_c['critical'] == 'Yes']['comments'].values)\n",
    "non_critical_list = list(df_c[df_c['critical'] == 'No']['comments'].values)"
   ]
  },
  {
   "cell_type": "code",
   "execution_count": 41,
   "metadata": {},
   "outputs": [],
   "source": [
    "import string \n",
    "\n",
    "# lowercase text\n",
    "critical = list(map(str.lower, critical_list))\n",
    "non_critical = list(map(str.lower, non_critical_list))\n",
    "\n",
    "# remove punctuation\n",
    "for c in string.punctuation:\n",
    "    critical = str(critical).replace(c, \"\")\n",
    "    non_critical = str(non_critical).replace(c, \"\")\n",
    "\n",
    "# get list of two documents together\n",
    "corpus = [str(critical), str(non_critical)]"
   ]
  },
  {
   "cell_type": "code",
   "execution_count": 42,
   "metadata": {},
   "outputs": [],
   "source": [
    "comments_tfidf = pd.DataFrame(tfidf.fit_transform(corpus).toarray())\n",
    "comments_tfidf.columns = tfidf.get_feature_names()\n",
    "comments_tfidf = comments_tfidf.rename(index={0:'critical', 1:'non_critical'})"
   ]
  },
  {
   "cell_type": "code",
   "execution_count": 43,
   "metadata": {},
   "outputs": [
    {
     "data": {
      "text/plain": [
       "critical                   rte\n",
       "non_critical    nonfoodcontact\n",
       "dtype: object"
      ]
     },
     "execution_count": 43,
     "metadata": {},
     "output_type": "execute_result"
    }
   ],
   "source": [
    "most_unique = comments_tfidf.idxmax(axis=1) \n",
    "most_unique"
   ]
  },
  {
   "cell_type": "code",
   "execution_count": 45,
   "metadata": {
    "scrolled": true
   },
   "outputs": [
    {
     "data": {
      "text/html": [
       "<div>\n",
       "<style scoped>\n",
       "    .dataframe tbody tr th:only-of-type {\n",
       "        vertical-align: middle;\n",
       "    }\n",
       "\n",
       "    .dataframe tbody tr th {\n",
       "        vertical-align: top;\n",
       "    }\n",
       "\n",
       "    .dataframe thead th {\n",
       "        text-align: right;\n",
       "    }\n",
       "</style>\n",
       "<table border=\"1\" class=\"dataframe\">\n",
       "  <thead>\n",
       "    <tr style=\"text-align: right;\">\n",
       "      <th></th>\n",
       "      <th>rte</th>\n",
       "      <th>foods</th>\n",
       "      <th>date</th>\n",
       "      <th>priority</th>\n",
       "      <th>f</th>\n",
       "      <th>food</th>\n",
       "      <th>recorded</th>\n",
       "      <th>tphc</th>\n",
       "      <th>maximum</th>\n",
       "      <th>marked</th>\n",
       "      <th>...</th>\n",
       "      <th>exhaust</th>\n",
       "      <th>extensions</th>\n",
       "      <th>wooden</th>\n",
       "      <th>hoods</th>\n",
       "      <th>slats</th>\n",
       "      <th>fixtures</th>\n",
       "      <th>cupboards</th>\n",
       "      <th>gritty</th>\n",
       "      <th>flume</th>\n",
       "      <th>backsidesundersides</th>\n",
       "    </tr>\n",
       "  </thead>\n",
       "  <tbody>\n",
       "    <tr>\n",
       "      <th>critical</th>\n",
       "      <td>0.046651</td>\n",
       "      <td>0.041323</td>\n",
       "      <td>0.041018</td>\n",
       "      <td>0.040249</td>\n",
       "      <td>0.040160</td>\n",
       "      <td>0.039198</td>\n",
       "      <td>0.038921</td>\n",
       "      <td>0.038438</td>\n",
       "      <td>0.037715</td>\n",
       "      <td>0.037595</td>\n",
       "      <td>...</td>\n",
       "      <td>0.000000</td>\n",
       "      <td>0.000000</td>\n",
       "      <td>0.000000</td>\n",
       "      <td>0.000000</td>\n",
       "      <td>0.000000</td>\n",
       "      <td>0.000000</td>\n",
       "      <td>0.000000</td>\n",
       "      <td>0.000000</td>\n",
       "      <td>0.000000</td>\n",
       "      <td>0.000000</td>\n",
       "    </tr>\n",
       "    <tr>\n",
       "      <th>non_critical</th>\n",
       "      <td>0.000000</td>\n",
       "      <td>0.041375</td>\n",
       "      <td>0.027478</td>\n",
       "      <td>0.022552</td>\n",
       "      <td>0.021934</td>\n",
       "      <td>0.053263</td>\n",
       "      <td>0.000000</td>\n",
       "      <td>0.000000</td>\n",
       "      <td>0.000000</td>\n",
       "      <td>0.021233</td>\n",
       "      <td>...</td>\n",
       "      <td>0.036388</td>\n",
       "      <td>0.034217</td>\n",
       "      <td>0.033397</td>\n",
       "      <td>0.034596</td>\n",
       "      <td>0.038402</td>\n",
       "      <td>0.043786</td>\n",
       "      <td>0.034956</td>\n",
       "      <td>0.046246</td>\n",
       "      <td>0.031696</td>\n",
       "      <td>0.036242</td>\n",
       "    </tr>\n",
       "  </tbody>\n",
       "</table>\n",
       "<p>2 rows × 2000 columns</p>\n",
       "</div>"
      ],
      "text/plain": [
       "                   rte     foods      date  priority         f      food  \\\n",
       "critical      0.046651  0.041323  0.041018  0.040249  0.040160  0.039198   \n",
       "non_critical  0.000000  0.041375  0.027478  0.022552  0.021934  0.053263   \n",
       "\n",
       "              recorded      tphc   maximum    marked  ...   exhaust  \\\n",
       "critical      0.038921  0.038438  0.037715  0.037595  ...  0.000000   \n",
       "non_critical  0.000000  0.000000  0.000000  0.021233  ...  0.036388   \n",
       "\n",
       "              extensions    wooden     hoods     slats  fixtures  cupboards  \\\n",
       "critical        0.000000  0.000000  0.000000  0.000000  0.000000   0.000000   \n",
       "non_critical    0.034217  0.033397  0.034596  0.038402  0.043786   0.034956   \n",
       "\n",
       "                gritty     flume  backsidesundersides  \n",
       "critical      0.000000  0.000000             0.000000  \n",
       "non_critical  0.046246  0.031696             0.036242  \n",
       "\n",
       "[2 rows x 2000 columns]"
      ]
     },
     "execution_count": 45,
     "metadata": {},
     "output_type": "execute_result"
    }
   ],
   "source": [
    "comments_tfidf.sort_values(by='critical', axis=1, ascending=False)"
   ]
  },
  {
   "cell_type": "code",
   "execution_count": 46,
   "metadata": {},
   "outputs": [
    {
     "data": {
      "text/html": [
       "<div>\n",
       "<style scoped>\n",
       "    .dataframe tbody tr th:only-of-type {\n",
       "        vertical-align: middle;\n",
       "    }\n",
       "\n",
       "    .dataframe tbody tr th {\n",
       "        vertical-align: top;\n",
       "    }\n",
       "\n",
       "    .dataframe thead th {\n",
       "        text-align: right;\n",
       "    }\n",
       "</style>\n",
       "<table border=\"1\" class=\"dataframe\">\n",
       "  <thead>\n",
       "    <tr style=\"text-align: right;\">\n",
       "      <th></th>\n",
       "      <th>nonfoodcontact</th>\n",
       "      <th>clean</th>\n",
       "      <th>encrusted</th>\n",
       "      <th>accumulations</th>\n",
       "      <th>food</th>\n",
       "      <th>core</th>\n",
       "      <th>c</th>\n",
       "      <th>equipment</th>\n",
       "      <th>b</th>\n",
       "      <th>surfaces</th>\n",
       "      <th>...</th>\n",
       "      <th>ensuring</th>\n",
       "      <th>tagged</th>\n",
       "      <th>allowable</th>\n",
       "      <th>ricotta</th>\n",
       "      <th>enter</th>\n",
       "      <th>intermingled</th>\n",
       "      <th>integrity</th>\n",
       "      <th>intact</th>\n",
       "      <th>roasts</th>\n",
       "      <th>showed</th>\n",
       "    </tr>\n",
       "  </thead>\n",
       "  <tbody>\n",
       "    <tr>\n",
       "      <th>critical</th>\n",
       "      <td>0.000000</td>\n",
       "      <td>0.031905</td>\n",
       "      <td>0.000000</td>\n",
       "      <td>0.000000</td>\n",
       "      <td>0.039198</td>\n",
       "      <td>0.016542</td>\n",
       "      <td>0.027115</td>\n",
       "      <td>0.034633</td>\n",
       "      <td>0.029253</td>\n",
       "      <td>0.027608</td>\n",
       "      <td>...</td>\n",
       "      <td>0.025506</td>\n",
       "      <td>0.027413</td>\n",
       "      <td>0.023752</td>\n",
       "      <td>0.02515</td>\n",
       "      <td>0.023249</td>\n",
       "      <td>0.024899</td>\n",
       "      <td>0.025731</td>\n",
       "      <td>0.027168</td>\n",
       "      <td>0.028018</td>\n",
       "      <td>0.022884</td>\n",
       "    </tr>\n",
       "    <tr>\n",
       "      <th>non_critical</th>\n",
       "      <td>0.060039</td>\n",
       "      <td>0.054672</td>\n",
       "      <td>0.054601</td>\n",
       "      <td>0.053563</td>\n",
       "      <td>0.053263</td>\n",
       "      <td>0.052423</td>\n",
       "      <td>0.052035</td>\n",
       "      <td>0.051197</td>\n",
       "      <td>0.050962</td>\n",
       "      <td>0.050903</td>\n",
       "      <td>...</td>\n",
       "      <td>0.000000</td>\n",
       "      <td>0.000000</td>\n",
       "      <td>0.000000</td>\n",
       "      <td>0.00000</td>\n",
       "      <td>0.000000</td>\n",
       "      <td>0.000000</td>\n",
       "      <td>0.000000</td>\n",
       "      <td>0.000000</td>\n",
       "      <td>0.000000</td>\n",
       "      <td>0.000000</td>\n",
       "    </tr>\n",
       "  </tbody>\n",
       "</table>\n",
       "<p>2 rows × 2000 columns</p>\n",
       "</div>"
      ],
      "text/plain": [
       "              nonfoodcontact     clean  encrusted  accumulations      food  \\\n",
       "critical            0.000000  0.031905   0.000000       0.000000  0.039198   \n",
       "non_critical        0.060039  0.054672   0.054601       0.053563  0.053263   \n",
       "\n",
       "                  core         c  equipment         b  surfaces  ...  \\\n",
       "critical      0.016542  0.027115   0.034633  0.029253  0.027608  ...   \n",
       "non_critical  0.052423  0.052035   0.051197  0.050962  0.050903  ...   \n",
       "\n",
       "              ensuring    tagged  allowable  ricotta     enter  intermingled  \\\n",
       "critical      0.025506  0.027413   0.023752  0.02515  0.023249      0.024899   \n",
       "non_critical  0.000000  0.000000   0.000000  0.00000  0.000000      0.000000   \n",
       "\n",
       "              integrity    intact    roasts    showed  \n",
       "critical       0.025731  0.027168  0.028018  0.022884  \n",
       "non_critical   0.000000  0.000000  0.000000  0.000000  \n",
       "\n",
       "[2 rows x 2000 columns]"
      ]
     },
     "execution_count": 46,
     "metadata": {},
     "output_type": "execute_result"
    }
   ],
   "source": [
    "comments_tfidf.sort_values(by='non_critical', axis=1, ascending=False)"
   ]
  }
 ],
 "metadata": {
  "kernelspec": {
   "display_name": "Python 3",
   "language": "python",
   "name": "python3"
  },
  "language_info": {
   "codemirror_mode": {
    "name": "ipython",
    "version": 3
   },
   "file_extension": ".py",
   "mimetype": "text/x-python",
   "name": "python",
   "nbconvert_exporter": "python",
   "pygments_lexer": "ipython3",
   "version": "3.7.6"
  }
 },
 "nbformat": 4,
 "nbformat_minor": 4
}
